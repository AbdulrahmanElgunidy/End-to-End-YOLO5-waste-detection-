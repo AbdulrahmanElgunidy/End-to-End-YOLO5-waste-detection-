{
 "cells": [
  {
   "cell_type": "code",
   "execution_count": 1,
   "metadata": {},
   "outputs": [],
   "source": [
    "import gdown"
   ]
  },
  {
   "cell_type": "code",
   "execution_count": 2,
   "metadata": {},
   "outputs": [],
   "source": [
    "import gdown\n",
    "\n",
    "url = \"https://drive.google.com/file/d/1hnO7Jhxs1QDRzsXjL8ZHOh1gUonDt0_d/view?usp=sharing\"\n"
   ]
  },
  {
   "cell_type": "code",
   "execution_count": 3,
   "metadata": {},
   "outputs": [
    {
     "name": "stdout",
     "output_type": "stream",
     "text": [
      "1hnO7Jhxs1QDRzsXjL8ZHOh1gUonDt0_d\n"
     ]
    }
   ],
   "source": [
    "file_id = url.split(\"/\")[-2]\n",
    "print(file_id)\n"
   ]
  },
  {
   "cell_type": "code",
   "execution_count": 4,
   "metadata": {},
   "outputs": [],
   "source": [
    "prefix = 'https://drive.google.com/uc?/export=download&id='\n"
   ]
  },
  {
   "cell_type": "code",
   "execution_count": 5,
   "metadata": {},
   "outputs": [],
   "source": [
    "import os\n",
    "os.chdir(\"C:\\\\Users\\\\abdo mohammed\\\\Desktop\\\\MLOPS PROJECTS\\\\End-to-End-YOLO5-waste-detection-\\\\data\")"
   ]
  },
  {
   "cell_type": "code",
   "execution_count": 6,
   "metadata": {},
   "outputs": [
    {
     "data": {
      "text/plain": [
       "'C:\\\\Users\\\\abdo mohammed\\\\Desktop\\\\MLOPS PROJECTS\\\\End-to-End-YOLO5-waste-detection-\\\\data'"
      ]
     },
     "execution_count": 6,
     "metadata": {},
     "output_type": "execute_result"
    }
   ],
   "source": [
    "%pwd"
   ]
  },
  {
   "cell_type": "code",
   "execution_count": 7,
   "metadata": {},
   "outputs": [
    {
     "name": "stderr",
     "output_type": "stream",
     "text": [
      "Downloading...\n",
      "From: https://drive.google.com/uc?id=1hnO7Jhxs1QDRzsXjL8ZHOh1gUonDt0_d\n",
      "To: C:\\Users\\abdo mohammed\\Desktop\\MLOPS PROJECTS\\End-to-End-YOLO5-waste-detection-\\data\n",
      "100%|██████████| 470k/470k [00:00<00:00, 593kB/s]"
     ]
    },
    {
     "name": "stdout",
     "output_type": "stream",
     "text": [
      "Data downloaded!\n"
     ]
    },
    {
     "name": "stderr",
     "output_type": "stream",
     "text": [
      "\n"
     ]
    }
   ],
   "source": [
    "import gdown\n",
    "\n",
    "output_path = 'C:\\\\Users\\\\abdo mohammed\\\\Desktop\\\\MLOPS PROJECTS\\\\End-to-End-YOLO5-waste-detection-\\\\data'\n",
    "\n",
    "url = f'https://drive.google.com/uc?id={file_id}'\n",
    "gdown.download(url, output_path, quiet=False)\n",
    "print(\"Data downloaded!\")"
   ]
  },
  {
   "cell_type": "code",
   "execution_count": 8,
   "metadata": {},
   "outputs": [
    {
     "name": "stderr",
     "output_type": "stream",
     "text": [
      "'unzip' is not recognized as an internal or external command,\n",
      "operable program or batch file.\n"
     ]
    },
    {
     "name": "stderr",
     "output_type": "stream",
     "text": [
      "'rm' is not recognized as an internal or external command,\n",
      "operable program or batch file.\n"
     ]
    }
   ],
   "source": [
    "\n",
    "!unzip dd.zip\n",
    "!rm -rf dd.zip"
   ]
  },
  {
   "cell_type": "code",
   "execution_count": 9,
   "metadata": {},
   "outputs": [
    {
     "name": "stdout",
     "output_type": "stream",
     "text": [
      "\u001b[1;31m# train: ../train/images\u001b[0m\u001b[1;33m\n",
      "\u001b[0m\u001b[1;31m# val: ../valid/images\u001b[0m\u001b[1;33m\n",
      "\u001b[0m\u001b[1;31m# nc: 13\u001b[0m\u001b[1;33m\n",
      "\u001b[0m\u001b[1;31m# names:['bannana','chilli','canbottle','drinkpeak','foodcan','lettuce','paperbag','plasticbag','plasticbot','plasticcontainer','sweetpotato','teabag','tissuerol']\u001b[0m\u001b[1;33m\n",
      "\u001b[0m\u001b[1;33m\n",
      "\u001b[0m\u001b[0mtrain\u001b[0m\u001b[1;33m:\u001b[0m \u001b[1;33m.\u001b[0m\u001b[1;33m.\u001b[0m\u001b[1;33m/\u001b[0m\u001b[0mtrain\u001b[0m\u001b[1;33m/\u001b[0m\u001b[0mimages\u001b[0m\u001b[1;33m\n",
      "\u001b[0m\u001b[0mval\u001b[0m\u001b[1;33m:\u001b[0m \u001b[1;33m.\u001b[0m\u001b[1;33m.\u001b[0m\u001b[1;33m/\u001b[0m\u001b[0mvalid\u001b[0m\u001b[1;33m/\u001b[0m\u001b[0mimages\u001b[0m\u001b[1;33m\n",
      "\u001b[0m\u001b[0mnc\u001b[0m\u001b[1;33m:\u001b[0m \u001b[1;36m13\u001b[0m\u001b[1;33m\n",
      "\u001b[0m\u001b[0mnames\u001b[0m\u001b[1;33m:\u001b[0m\u001b[1;33m\n",
      "\u001b[0m  \u001b[1;33m-\u001b[0m \u001b[1;34m'bannana'\u001b[0m\u001b[1;33m\n",
      "\u001b[0m  \u001b[1;33m-\u001b[0m \u001b[1;34m'chilli'\u001b[0m\u001b[1;33m\n",
      "\u001b[0m  \u001b[1;33m-\u001b[0m \u001b[1;34m'canbottle'\u001b[0m\u001b[1;33m\n",
      "\u001b[0m  \u001b[1;33m-\u001b[0m \u001b[1;34m'drinkpeak'\u001b[0m\u001b[1;33m\n",
      "\u001b[0m  \u001b[1;33m-\u001b[0m \u001b[1;34m'foodcan'\u001b[0m\u001b[1;33m\n",
      "\u001b[0m  \u001b[1;33m-\u001b[0m \u001b[1;34m'lettuce'\u001b[0m\u001b[1;33m\n",
      "\u001b[0m  \u001b[1;33m-\u001b[0m \u001b[1;34m'paperbag'\u001b[0m\u001b[1;33m\n",
      "\u001b[0m  \u001b[1;33m-\u001b[0m \u001b[1;34m'plasticbag'\u001b[0m\u001b[1;33m\n",
      "\u001b[0m  \u001b[1;33m-\u001b[0m \u001b[1;34m'plasticbot'\u001b[0m\u001b[1;33m\n",
      "\u001b[0m  \u001b[1;33m-\u001b[0m \u001b[1;34m'plasticcontainer'\u001b[0m\u001b[1;33m\n",
      "\u001b[0m  \u001b[1;33m-\u001b[0m \u001b[1;34m'sweetpotato'\u001b[0m\u001b[1;33m\n",
      "\u001b[0m  \u001b[1;33m-\u001b[0m \u001b[1;34m'teabag'\u001b[0m\u001b[1;33m\n",
      "\u001b[0m  \u001b[1;33m-\u001b[0m \u001b[1;34m'tissuerol'\u001b[0m\u001b[1;33m\u001b[0m\u001b[1;33m\u001b[0m\u001b[0m\n"
     ]
    }
   ],
   "source": [
    "# this is yaml file we are loading into this notebook with our data \n",
    "\n",
    "%pycat C:\\Users\\abdo mohammed\\Desktop\\MLOPS PROJECTS\\End-to-End-YOLO5-waste-detection-\\data.yaml"
   ]
  },
  {
   "cell_type": "code",
   "execution_count": 10,
   "metadata": {},
   "outputs": [
    {
     "name": "stdout",
     "output_type": "stream",
     "text": [
      "Number of classes: 13\n"
     ]
    }
   ],
   "source": [
    "import yaml\n",
    "\n",
    "# Corrected path\n",
    "file_path = r'C:\\Users\\abdo mohammed\\Desktop\\MLOPS PROJECTS\\End-to-End-YOLO5-waste-detection-\\data.yaml'\n",
    "\n",
    "try:\n",
    "    with open(file_path, 'r') as stream:\n",
    "        data = yaml.safe_load(stream)\n",
    "        num_classes = str(data['nc'])\n",
    "        print(f\"Number of classes: {num_classes}\")\n",
    "except Exception as e:\n",
    "    print(f\"An error occurred: {e}\")\n",
    "\n"
   ]
  },
  {
   "cell_type": "code",
   "execution_count": null,
   "metadata": {},
   "outputs": [],
   "source": []
  }
 ],
 "metadata": {
  "kernelspec": {
   "display_name": "wastedetection",
   "language": "python",
   "name": "python3"
  },
  "language_info": {
   "codemirror_mode": {
    "name": "ipython",
    "version": 3
   },
   "file_extension": ".py",
   "mimetype": "text/x-python",
   "name": "python",
   "nbconvert_exporter": "python",
   "pygments_lexer": "ipython3",
   "version": "3.7.16"
  }
 },
 "nbformat": 4,
 "nbformat_minor": 2
}
